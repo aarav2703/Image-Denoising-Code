{
  "nbformat": 4,
  "nbformat_minor": 0,
  "metadata": {
    "colab": {
      "provenance": [],
      "authorship_tag": "ABX9TyPV0QdLZdHv/ipvNAT/OxJv",
      "include_colab_link": true
    },
    "kernelspec": {
      "name": "python3",
      "display_name": "Python 3"
    },
    "language_info": {
      "name": "python"
    }
  },
  "cells": [
    {
      "cell_type": "markdown",
      "metadata": {
        "id": "view-in-github",
        "colab_type": "text"
      },
      "source": [
        "<a href=\"https://colab.research.google.com/github/aarav2703/Image-Denoising-Code/blob/main/dataset_exploration.ipynb\" target=\"_parent\"><img src=\"https://colab.research.google.com/assets/colab-badge.svg\" alt=\"Open In Colab\"/></a>"
      ]
    },
    {
      "cell_type": "code",
      "source": [
        "# Dataset_Exploration_Preprocessing.ipynb\n",
        "\n",
        "import pandas as pd\n",
        "\n",
        "# Load the dataset from the /content directory\n",
        "file_path = '/content/Independent_Medical_Reviews.csv'\n",
        "df = pd.read_csv(file_path)\n",
        "\n",
        "# Display the first few rows of the dataset\n",
        "print(df.head())\n",
        "print(df.info())\n"
      ],
      "metadata": {
        "colab": {
          "base_uri": "https://localhost:8080/"
        },
        "id": "TbjYUMMiN7pn",
        "outputId": "b69e51e1-7124-4671-98c5-2c7c38f2572a"
      },
      "execution_count": 2,
      "outputs": [
        {
          "output_type": "stream",
          "name": "stdout",
          "text": [
            "  Reference ID  Report Year      Diagnosis Category Diagnosis Sub Category  \\\n",
            "0   MN16-22639         2016              Infectious              Hepatitis   \n",
            "1   MN16-22638         2016                  Mental        Eating Disorder   \n",
            "2   MN16-22637         2016         Autism Spectrum         Autism-PDD-NOS   \n",
            "3   EI16-22636         2016  Prevention/Good Health                    NaN   \n",
            "4    EI06-5319         2006     Cardiac/Circulatory                    NaN   \n",
            "\n",
            "                          Treatment Category  \\\n",
            "0                Pharmacy/Prescription Drugs   \n",
            "1                    Mental Health Treatment   \n",
            "2                   Autism Related Treatment   \n",
            "3  Diagnostic Imaging, Screening and Testing   \n",
            "4                            Cardio Vascular   \n",
            "\n",
            "                     Treatment Sub Category  \\\n",
            "0                               Anti-virals   \n",
            "1  Residential Treatment Center - Admission   \n",
            "2                            Speech Therapy   \n",
            "3                               Mammography   \n",
            "4                                       NaN   \n",
            "\n",
            "                        Determination                          Type Age Range  \\\n",
            "0  Overturned Decision of Health Plan             Medical Necessity     41-50   \n",
            "1      Upheld Decision of Health Plan             Medical Necessity     21-30   \n",
            "2      Upheld Decision of Health Plan             Medical Necessity      0-10   \n",
            "3  Overturned Decision of Health Plan  Experimental/Investigational       65+   \n",
            "4      Upheld Decision of Health Plan  Experimental/Investigational     51-64   \n",
            "\n",
            "  Patient Gender                                           Findings  \n",
            "0           Male  Nature of Statutory Criteria/Case Summary: An ...  \n",
            "1         Female  Nature of Statutory Criteria/Case Summary:  An...  \n",
            "2         Female  Nature of Statutory Criteria/Case Summary:  Th...  \n",
            "3         Female  Nature of Statutory Criteria/Case Summary: An ...  \n",
            "4           Male  Physician 1: The patient is a 62-year-old male...  \n",
            "<class 'pandas.core.frame.DataFrame'>\n",
            "RangeIndex: 19245 entries, 0 to 19244\n",
            "Data columns (total 11 columns):\n",
            " #   Column                  Non-Null Count  Dtype \n",
            "---  ------                  --------------  ----- \n",
            " 0   Reference ID            19245 non-null  object\n",
            " 1   Report Year             19245 non-null  int64 \n",
            " 2   Diagnosis Category      19186 non-null  object\n",
            " 3   Diagnosis Sub Category  17341 non-null  object\n",
            " 4   Treatment Category      18795 non-null  object\n",
            " 5   Treatment Sub Category  17977 non-null  object\n",
            " 6   Determination           19245 non-null  object\n",
            " 7   Type                    19245 non-null  object\n",
            " 8   Age Range               18035 non-null  object\n",
            " 9   Patient Gender          18035 non-null  object\n",
            " 10  Findings                19225 non-null  object\n",
            "dtypes: int64(1), object(10)\n",
            "memory usage: 1.6+ MB\n",
            "None\n"
          ]
        }
      ]
    },
    {
      "cell_type": "code",
      "source": [
        "# Check for missing values\n",
        "print(df.isnull().sum())\n",
        "\n",
        "# Display unique values in each column\n",
        "for column in df.columns:\n",
        "    print(f\"{column}: {df[column].unique()}\")\n"
      ],
      "metadata": {
        "colab": {
          "base_uri": "https://localhost:8080/"
        },
        "id": "4s-K5JnOPYJk",
        "outputId": "2ce9e607-c11f-46a5-ea83-3547ac09485c"
      },
      "execution_count": 5,
      "outputs": [
        {
          "output_type": "stream",
          "name": "stdout",
          "text": [
            "Reference ID                 0\n",
            "Report Year                  0\n",
            "Diagnosis Category          59\n",
            "Diagnosis Sub Category    1904\n",
            "Treatment Category         450\n",
            "Treatment Sub Category    1268\n",
            "Determination                0\n",
            "Type                         0\n",
            "Age Range                 1210\n",
            "Patient Gender            1210\n",
            "Findings                    20\n",
            "dtype: int64\n",
            "Reference ID: ['MN16-22639' 'MN16-22638' 'MN16-22637' ... 'MN01-5' 'MN01-4' 'EI01-3']\n",
            "Report Year: [2016 2006 2015 2014 2010 2005 2004 2009 2008 2007 2001 2013 2012 2002\n",
            " 2003 2011]\n",
            "Diagnosis Category: ['Infectious' 'Mental' 'Autism Spectrum' 'Prevention/Good Health'\n",
            " 'Cardiac/Circulatory' 'OB-Gyn/ Pregnancy'\n",
            " 'Digestive System/ Gastrointestinal' 'Orthopedic/ Musculoskeletal'\n",
            " 'Central Nervous System/ Neuromuscular' 'Endocrine/ Metabolic'\n",
            " 'Pediatrics' 'Chronic Pain' 'Respiratory System' 'Cancer'\n",
            " 'Morbid Obesity' 'Ears, Nose, Throat' 'Post Surgical Complication'\n",
            " 'Immunologic' 'Skin' 'Not Applicable' 'Foot' 'Dental' 'Blood Related'\n",
            " 'Genetic' 'Genitourinary/ Kidney' 'Vision' 'Trauma/Injuries' nan\n",
            " 'Organ Failure' 'Alcohol and Drug Addiction']\n",
            "Diagnosis Sub Category: ['Hepatitis' 'Eating Disorder' 'Autism-PDD-NOS' nan\n",
            " 'Female Breast Disorder' 'Other' 'Fracture' 'Depression - Severe'\n",
            " 'Diabetes' 'Lipid Storage Disease' 'Thyroid Problems' 'Hypertension'\n",
            " 'Multiple Sclerosis' 'Hormone Deficiency'\n",
            " 'Developmental Delays/ Cognitive' 'Back Pain' 'Hip Problem' 'Asthma'\n",
            " 'Breast Cancer' 'Ovarian Cancer' 'Scoliosis' 'Vertebral Disc Problem'\n",
            " 'Deformities' 'Throat Infection' 'Anxiety' 'GERDs/ Reflux Disorders'\n",
            " 'Sleep Apnea' 'Substance Abuse/ Addiction' 'Headache/Migraine'\n",
            " 'Shoulder Problem' 'Muscle Spasms' 'Psoriasis' 'Skin Cancer'\n",
            " 'Fibromyalgia' 'High Risk Suicide' 'Osteoporosis' 'Bipolar Disorder'\n",
            " 'Joint Problem' 'Knee Problem' 'Mole' 'Cardiac Problem' 'Osteoarthritis'\n",
            " 'Brain Tumor' 'Eczema' 'Heart Attack' 'Schizophrenia' 'Migraine'\n",
            " 'Psychosis' 'Overbite/ Underbite' 'Throat/ Neck Cancer'\n",
            " \"Alzheimer's Diease\" 'AIDS/HIV' 'Fibroids'\n",
            " 'Coronary Artery Disease - CAD' 'Neck Problem' 'Cardiac/Heart problem'\n",
            " 'Alcohol Abuse/ Addiction' \"Crohn's Disease\"\n",
            " 'Sinusitis - Sinus Infections' 'Incisional Hernia' 'Ligament Problem'\n",
            " 'Male Genital Disorder' 'Growth Hormone Deficiency' 'Sciatica'\n",
            " 'Macular Degeneration' 'Endometriosis' 'Insomnia' 'Tendon Problem'\n",
            " 'Respiratory Allergies' 'Varicose Veins' 'Cyst' 'Leukemia' 'Rash'\n",
            " 'Congential Heart Defect' 'Decay/ Cavities'\n",
            " 'ADHD - Attention Deficit Hyperactivity Disorder' 'Rheumatoid Arthritis'\n",
            " 'Epilepsy' 'Colon Cancer'\n",
            " \"ALS- Amyotrophic Lateral Sclerosis - Lou Gehrig's Disease\"\n",
            " 'Osteomyelitis' 'Cardiomyopathy' 'Excess Skin' 'Gynecomastia'\n",
            " 'Shortness of Breath' 'Plantar Fasciitis' 'Lymph Nodes Cancer' 'Lupus'\n",
            " 'Delayed Speech' 'Auto Accident' 'Pregnancy' 'Injury' 'Depression'\n",
            " 'Nose Deformity' 'Attachment Disorder' 'Stroke/ CVA' 'Lyme Disease'\n",
            " 'Lung Cancer' 'Blood Cancer' 'Hearing Problem' 'Liver Cancer'\n",
            " 'Myasthenia Gravis' 'Narcolepsy' 'Congestive Heart Failure - CHF'\n",
            " 'Cataracts' \"Addison's Disease\" 'Gum Disease' 'Skin Tag' 'Hypoglycemia'\n",
            " 'Chest pain' 'Post Surgical Complication' 'Anemia'\n",
            " 'Respiratory Sincytial Virus' 'Pancreas Cancer'\n",
            " 'ADD - Attention Deficit Disorder' 'Erectile Dysfunction'\n",
            " 'Yeast Infection' 'Renal Cancer' 'Tonsillitis' 'Prostate Cancer'\n",
            " 'Carpal Tunnel Syndrome' 'Urinary Tract Infection' 'Kidney Infection'\n",
            " 'Viral Infection' 'Cerebral Palsy' 'Cervical Cancer' 'Skin Lesion'\n",
            " 'Pneumonia' 'Irritable Bowel Syndrome' 'Pediatric Ortho'\n",
            " 'Obsessive-Compulsive Disorder' 'Speech Problems' 'Parkinson Disease'\n",
            " 'Scleroderma' 'Cardiac Valve Disease' 'Guillian-Barre' 'Pancreatitis'\n",
            " 'Mental Health Problem' 'Asperger Syndrome' 'Brain Cancer'\n",
            " 'Gastrointestinal Bleeding' 'Burns' 'Actinic Kerotosis' 'Heel Pain'\n",
            " 'Incontinence' 'Kidney Stones' 'Skin Ulcer' 'Ovarian Cyst' 'Amputation'\n",
            " 'TMJ - Temporal Mandibular Joint' 'Menopause' 'Menorrhagia'\n",
            " 'Ulcerative Colitis' 'Hiatal Hernia' 'Congenital Deformity' 'Paralysis'\n",
            " 'Stress Disorder' 'Chromosomal Anomalies' 'Inflammatory Bowel'\n",
            " 'Cirrhosis' 'Interstitial Cystitis' 'Acne' 'Sleep Disorder' 'Miscarriage'\n",
            " 'Autism' 'Infertility' 'Eyelid Droop' 'Pulmonary Fibrosis' 'Ataxia'\n",
            " 'COPD - Chronic Obstructive Lung Disease' 'Respiratory Infection'\n",
            " 'Glaucoma' 'Nasal Airway Obstruction' 'Lasceration' 'Shingles'\n",
            " 'Infection' 'Acute Kidney Failure' 'Severe Emotional Disturbance'\n",
            " 'Septal Deformity' 'Esophagus Cancer' 'Chronic Fatigue Syndrome'\n",
            " 'Bacterial Infection' 'Exposure to Toxin' 'Uterine Cancer' 'Angina'\n",
            " 'Chronic Diarrhea' 'Gastritis' 'Inguinal Hernia' 'Muscular Dystrophy'\n",
            " 'Bone Cancer' 'Pituitary Condition' 'Keloid' \"Down's Syndrome\" 'Bunion'\n",
            " 'Myocardial Infarction - MI' 'Rett Syndrome' 'Chronic Kidney Failure'\n",
            " 'Cystic Fibrosis' 'Musculoskeletal/ Ortho Problem'\n",
            " 'Developmental Delays/ Ortho' 'Umbillical Hernia' 'Otitis Media'\n",
            " 'Pervasive Developmental Disorder' 'Blindness' 'Warts' 'Burn'\n",
            " 'Lymphedema' 'Tooth Loss' 'Abscess' 'Phenylketonuria (PKU)'\n",
            " 'Retinal Vessel Occlusion' 'Eye Pain' 'Epigastric Hernia'\n",
            " 'Dizziness, Vertigo' 'Rectal Bleeding' 'Pelvic Inflammatory Disease'\n",
            " 'Dermatitis' 'Obstructive Airway' 'Tourettes Syndrom'\n",
            " 'Polycystic Kidney Disease' 'Leimyomata' 'Foreign Body'\n",
            " 'Congenital Anomaly' 'Onychomycosis/ Nail Fungus' 'Sickle Cell Disease'\n",
            " 'Bronchitis' 'Ventral Hernia' 'Aneurysm' 'Pyelonephritis' 'Bleeding'\n",
            " 'Beating/ Assault' 'Injury/ Trauma' 'Chemical Exposure'\n",
            " 'Injury or Trauma' 'Retinopathy' 'Herpes Simplex' 'Ingestion'\n",
            " 'ITP - Idiopathic Thrombocytopenia' 'Peripheral Vascular Disease - PVD'\n",
            " 'Vaginal Infection' 'Neurological Deficit' 'Hammertoe' 'Asbestosis'\n",
            " 'Peptic Ulcer Disease' 'Decay/ Root Involvement' 'Dysmenorrhea'\n",
            " 'Strabismus' 'Cleft Palate/lip' 'Corns and Calluses' 'Gallstones'\n",
            " 'Bursitis' 'Nasal Polyps' 'Malaria' 'Appendicitis' 'Gestational Diabetes'\n",
            " 'Myopia/ Nearsightedness' 'Post-Partum Depression' 'Corneal Abrasion'\n",
            " 'Myocardial spasm' 'Pediatric Cardiac' 'Gunshot Wound' 'Impacted Teeth'\n",
            " 'Enlarged Turbinates' 'Medial Meniscus Tear' 'Abdominal Pannus'\n",
            " 'Heart Attack/Angina' 'ACL -  Anterior Cruciate Ligament'\n",
            " 'Pervasive Develpomental Disorder' 'Pleurisy' 'Peri-Menopausal'\n",
            " 'Cholecystitis' 'Retinitis Pigmentosa' 'Sports Related Injury'\n",
            " 'Abnormal Hair Growth' 'Glycogen Storage Disease'\n",
            " 'Elevated Liver Enzymes' 'Hunter Syndrome' 'Sexually Transmitted Disease'\n",
            " 'Hermangioma']\n",
            "Treatment Category: ['Pharmacy/Prescription Drugs' 'Mental Health Treatment'\n",
            " 'Autism Related Treatment' 'Diagnostic Imaging, Screening and Testing'\n",
            " 'Cardio Vascular' 'Durable Medical Equipment'\n",
            " 'Diagnostic/Physician Evaluation' 'Orthopedic' 'Emergency/Urgent Care'\n",
            " 'General Surgery' 'Acute Medical Services - Outpatient' 'Not Applicable'\n",
            " 'Pain Management' 'Cancer Treatment' 'Reconstructive/Plastic Surgery'\n",
            " 'Rehabilitation Services - Skilled Nursing Facility - Inpatient'\n",
            " 'Special Procedure' 'Electrical/ Thermal/ Radiofreq. Interventions'\n",
            " 'Alternative Treatment' 'OB/GYN Procedures' 'Neurosugery'\n",
            " 'Dental/Orthodontic' 'Home Health Care'\n",
            " 'Acute Medical Services - Inpatient' 'Ear, Nose and Throat Procedures'\n",
            " 'Rehabilitation Services - Outpatient' 'Vision' 'Urology' nan\n",
            " 'Preventive Health Screening' 'Chiropractic' 'Ophthalmology']\n",
            "Treatment Sub Category: ['Anti-virals' 'Residential Treatment Center - Admission' 'Speech Therapy'\n",
            " 'Mammography' nan 'Lab Work' 'Allergy Testing' 'Other'\n",
            " 'Acute Psychiatric Facility Admission' 'X-Ray'\n",
            " 'Specialty Consultation Referral' 'Cardiac Medications' 'CT Scan'\n",
            " 'Ambulance/Transport' 'Hormones' 'ABA-Applied Behavioral Analysis'\n",
            " 'Emergency Room' 'Analgesics' 'Proton Beam Therapy'\n",
            " 'Analgesic Prescription/Medication' 'Electric Wheelchair' 'Urgent Care'\n",
            " 'Anti-Depressants' 'Interferon' 'C-Pap Machine' 'Autism Screening'\n",
            " 'Special Bed' 'Inpatient Admission' 'IVIG Therapy' 'General Anesthesia'\n",
            " 'Radiofrequency Ablation' 'Botox Injection' 'Anti-inflammatories'\n",
            " 'PET Scan' 'Bone Density Scan' 'Acupuncture' 'Arthritis Medications'\n",
            " 'Panniculectomy' 'Artificial Disk Replacement' 'Knee Replacement'\n",
            " 'Fracture/Bone Repair' 'Skin Treatment' 'Nerve Block'\n",
            " 'Treatment for Migraine' 'MRI' 'Wheelchair' 'Injections/ Infusions'\n",
            " 'Breast Reduction' 'Liposuction' 'Admission' 'Radiation Therapy'\n",
            " 'Anti-Psychotic' 'Sinus Surgery' 'Sensory Integration' 'Hernia Repair'\n",
            " 'Hysterectomy' 'Physical Therapy' 'Epidural Injection'\n",
            " 'Partial Hospitalization' 'Formulary versus Non-Formulary'\n",
            " 'Bariatric Lap Band' 'Bariatric Other' 'Weight Control' 'Anti-histamines'\n",
            " 'Hip Replacement' 'Out-of-Network/Academic Center Referral'\n",
            " 'Clinical Trial (Phase 1)' 'Transcranial Magnetic Stimulation'\n",
            " 'Orthotics' 'Ultrasound' 'Heart Monitor'\n",
            " 'Prescription Drug/Medication Management' 'Colonoscopy/Sigmoidoscopy'\n",
            " 'IDET' 'Dental Anesthesia' 'Skilled Nursing Visits' 'Sleep Study'\n",
            " 'Organ Transplant' 'Anti-Fungal' 'Oxygen' 'CPM Machine' 'Jaw Surgery'\n",
            " 'Investigational Treatment' 'Social Skills Therapy'\n",
            " 'Continuous Glucose Monitor' 'Fusion' 'Adult Immunization'\n",
            " 'Pacemaker Insertion' 'Alcohol Rehabilitation Program' 'Cryoablation'\n",
            " 'Surgery' 'Shoe Inserts' 'Excess Skin Removal' 'Eye Test'\n",
            " 'Oncotype DX Assay' 'Antibiotics'\n",
            " 'Residential Treatment Center - Discharge' 'Compression Garments'\n",
            " 'Mammoplasty' 'Anti-hypertensives' 'Behavioral Therapy'\n",
            " 'EECP-Enhanced External Counter Pulsation Device'\n",
            " 'Drug Rehabilitation Program' 'AIDS Wasting Treatment' 'Chemotherapy'\n",
            " 'Psychotherapy' 'Non-FDA Approved Use' 'Treatment for Impotence'\n",
            " 'Vision Therapy' 'Tonsillectomy' 'Laminectomy' 'Biofeedback' 'Antacids'\n",
            " 'Vitamins' 'Cesarean Section' 'Stem Cell Transplant' 'Cognitive Therapy'\n",
            " 'Inpatient Early Discharge' 'Shoulder Replacement' 'Occupational Therapy'\n",
            " 'Special Chair' 'Steroid Injection' 'Electric Scooter'\n",
            " 'Orthodontia/ Braces' 'Colonoscopy' 'Skin Resurfacing'\n",
            " 'Revision Procedures' 'Individual Counseling' 'Out-Of-Network Referral'\n",
            " 'Parathyroidectomy' 'Music Therapy' 'Sedatives/ Hypnotics'\n",
            " 'Extracoproreal Shock Wave Lithotripsy' 'Prosthesis'\n",
            " 'Medical/Surgical Unit' 'Early Discharge' 'Breast Surgery'\n",
            " 'Pain Management Program' 'Insulin Pump' 'Hyperbaric Oxygen Chamber'\n",
            " 'Septoplasty' 'Biopsy' 'Acute Psychiatric Facility Discharge'\n",
            " 'Treatment for Allergies' 'Circumcision' 'Visual Aids/ Contact Lenses'\n",
            " 'Inpatient Transfer to Home' 'Tubes in Ears' 'Radiation Oncology'\n",
            " 'Pain Management' 'Breast Augmentation' 'ABI Vest'\n",
            " 'Electric Bone Stimulator' 'Cervical Traction Unit' 'Anti-Acne Treatment'\n",
            " 'Implant Removal' 'Arthroscopy' 'Braces' 'Walker' 'Gastric Bypass'\n",
            " 'Scoping Procedure' 'Preventive Nutritional Counseling'\n",
            " 'Cardiac Valve Replacement' 'Urethral Stents' 'Thigh/Buttock Lift'\n",
            " 'Joint Manipulation' 'Rectal Exam' 'Diskectomy' 'Fertility Medications'\n",
            " 'Humidifier' 'Endodontics/ Root Canal'\n",
            " 'ORIF (Open Reduction Internal Fixation)' 'Special Foods'\n",
            " 'Blepharoplasty' 'Cataract Surgery' 'Fibroid Removal'\n",
            " 'Request for 2nd Opinion Out of Plan' 'TMJ Splint' 'Burn Unit'\n",
            " 'Uterine Artery Embolization' 'Ongoing Out-Of-Network Treatment'\n",
            " 'Childhood Immunization' 'Crowns' 'Extraction' 'Intensive Home Therapy'\n",
            " 'Floor-Time Therapy' 'Inpatient Discharge' 'Laparoscopy' 'Vein Stripping'\n",
            " 'Bariatric Roux-En-Y' 'Referral to Pain Clinic' 'Visual Aids/ Glasses'\n",
            " 'Hearing Aid' 'PKU Formula' 'Birth Control' 'Laparotomy'\n",
            " 'Labor and Delivery' 'TENS Unit' 'Craniotomy' 'Bariatric Duodenal Switch'\n",
            " 'Thallium Stress Test' 'Clinical Trial' 'Cosmetic Treatment'\n",
            " 'Gastrostomy Tube Placement' 'Spinal Adjustment' 'PSA Screening'\n",
            " 'Traumatic Brain Injury Program' 'Perio Gum Treatment' 'Cochlear Implant'\n",
            " 'Referral out of Medical Group' 'Aqua Therapy' 'Discharge to Home'\n",
            " 'VNUS Closure' 'Telemetry Unit' 'Clinical Trial (Phases 2-4)'\n",
            " 'Therapeutic Abortion' 'Cardiac Mapping' 'D & C' 'Cryotherapy'\n",
            " 'Neurosurgery Intensive Care Unit'\n",
            " 'Inpatient Transfer to Lower Level of Care'\n",
            " 'In-Network Academic Center Referral' 'Acupressure' 'Biologics'\n",
            " 'Partial Hospital' 'Family Counseling' 'Tubal Ligation'\n",
            " 'Brand versus Generic' 'Conscious Sedation' 'Stroke Recovery Program'\n",
            " 'Pap Smear' 'Evaluation' 'Bariatric Surgery' 'Biochemotherapy'\n",
            " 'Cholesterol Screen' 'Investigational Treatment Protocol' 'EKG'\n",
            " 'Dental Implants' 'Transfer to Lower Level of Care'\n",
            " 'Ultrasound/Micro Massage' 'Out of Plan Pain Management Program'\n",
            " 'Tissue Regeneration' 'Pneumatic Vest' 'ECT - Electro-Convulsive Therapy'\n",
            " 'Neonatal Intensive Care Unit' 'In-Vitro Fertilization Medication'\n",
            " 'Dental X-Rays' 'Thyroidectomy' 'Prostatectomy'\n",
            " 'Biliopancreatic Diversion' 'Mammopexy'\n",
            " 'ACL (Anterior Ligament Cruciate) Repair' 'Cranioplasty'\n",
            " 'Cholecystectomy' 'Maternity Ward' 'Homeopathy'\n",
            " 'Chemotherapy/ Cancer Medications' 'H-Wave Device' 'Osseous Surgery'\n",
            " 'Artificial Reproduction Technique' 'CABG (Coronary Artery Bypass Graft)'\n",
            " 'Nerve Inflammation Treatment' 'Yag Procedure' 'Duodenstomy'\n",
            " 'TMJ Treatment' 'Play Therapy' 'Laser Surgery' 'Lipectomy' 'TPN'\n",
            " 'Lasik (Keratotomy)' 'Cardiac Catheterization'\n",
            " 'Mandibular Repositioning Device' 'Sleep Studies' 'Dressing Changes'\n",
            " 'VAC Pump' 'Vitrectomy' 'Endarterectomy' 'Home Uterine Monitor'\n",
            " 'H-wave Device' 'Vasectomy'\n",
            " 'EECP - Enhanced External Counter Pulsation Device'\n",
            " 'Implant Removal Procedure' 'Nissen Fundoplication' 'Excision of Lipoma']\n",
            "Determination: ['Overturned Decision of Health Plan' 'Upheld Decision of Health Plan']\n",
            "Type: ['Medical Necessity' 'Experimental/Investigational' 'Urgent Care']\n",
            "Age Range: ['41-50' '21-30' '0-10' '65+' '51-64' '11_20' '31-40' nan]\n",
            "Patient Gender: ['Male' 'Female' nan]\n",
            "Findings: ['Nature of Statutory Criteria/Case Summary: An enrollee has requested Harvoni for treatment of his hepatitis C virus genotype 1a.  Findings:  The physician reviewer found that according to the most recent joint guidelines issued by the American Association for the Study of Liver Diseases (AASLD) and the Infectious Diseases Society of America (IDSA), all patients with chronic hepatitis C should be treated except those with limited life expectancy due to non-liver-related conditions. This applies regardless of fibrosis stage or viral load, and advanced fibrosis is not required for treatment. Per guidelines, treatment-naïve genotype 1 patients should be treated with Harvoni. Patients with viral load of less than 6,000,000 IU/mL can be treated for eight weeks. These guideline recommendations are based on multiple randomized clinical trials (Kowdley, et al; Afdhal, et al). Moreover, the AASLD and IDSA guidelines cite data showing reduced survival with delayed treatment (Jezequel, et al). For these reasons, the requested treatment with Harvoni is supported as medically necessary for the treatment of this patient’s hepatitis C infection. Final Result: The reviewer determined that the requested medication is medically necessary for treatment of the patient’s medical condition. Therefore, the Health Plan’s denial should be overturned.  Credentials/Qualifications: The reviewer is board certified in internal medicine with sub-specialty certification in gastroenterology and is actively practicing. The reviewer is an expert in the treatment of the enrollee’s medical condition and knowledgeable about the proposed treatment through recent or current actual clinical experience treating those with the same or a similar medical condition. '\n",
            " 'Nature of Statutory Criteria/Case Summary:  An enrollee has requested  residential treatment center (RTC) services for treatment of her medical condition.  Findings:  The physician reviewer found that there is a lack of clinical evidence to suggest that the patient would not respond to treatment at a less intensive level of care.  She no longer required supervision in a highly structured setting to prevent eating disorder behaviors. In addition, no new problems had arisen and there was no evidence to suggest that re-entry into the community would lead to decompensation that would necessitate readmission to a residential setting. Although she continued to struggle with issues of body image, anxiety, depression, and self-esteem, and required ongoing treatment, this treatment did not require the 24-hour supervised setting of residential level of care. Moreover, the records do not support readmission to RTC level of care. Thus, RTC services and resumption of RTC services were not and are not medically necessary for treatment of this patient’s eating disorder.  Final Result: The reviewer determined that the services at issue were not and are not medically necessary for treatment of the patient’s medical condition. Therefore, the Health Plan’s denial should be upheld.  Credentials/Qualifications:  The reviewer is board certified in psychiatry and is actively practicing. The reviewer is an expert in the treatment of the enrollee’s medical condition and knowledgeable about the proposed treatment through recent or current actual clinical experience treating those with the same or a similar medical condition.'\n",
            " 'Nature of Statutory Criteria/Case Summary:  The parent of an enrollee has requested speech therapy for treatment of the enrollee’s medical condition.  Findings:  The physician reviewer found that review of the submitted documentation and medical literature fails to demonstrate the medical necessity of the requested services. The article by Myers and colleagues recommends a comprehensive educational program to include speech therapy for children with autism spectrum disorder. In this case, the patient has been treated with speech therapy and has made slow progress with improvements in mean length of utterance, pronoun use and use of correct verb tense. However, in the school and home setting there is not as much generalization. At this point individual speech therapy is not medically necessary. Continued work on her speech goals and social goals can be treated through ABA services, group speech therapy or a social skills group. In sum, individual speech therapy is not medically necessary in this clinical setting.  Final result:  The reviewer determined that the requested services are not medically necessary for treatment of the patient’s medical condition. Therefore, the Health Plan’s denial should be upheld.  Credentials/Qualifications:  The reviewer is board certified in pediatrics with sub-specialty certification in developmental and behavioral pediatrics and is actively practicing.  The reviewer is an expert in the treatment of the enrollee’s medical condition and knowledgeable about the proposed treatment through recent or current actual clinical experience treating those with the same or a similar medical condition. '\n",
            " ...\n",
            " \"A 46-year-old female requested an orthoscopic surgery for treatment of a torn labrum and shrunken capsule of the shoulder.  The Health Plan denied this request indicating the procedure is not medically necessary.The Review Organization's Physician Consultant examined the medical records submitted and determined there is good potential that physical therapy will lead to avoidance of surgery; therefore, the Health Plan&#8217;s denial should be upheld.\"\n",
            " \"A 24-year-old female requested a bilateral breast reduction surgery for treatment of recurrent persistent thoracic back pain.  The Health Plan denied this request indicating the procedure is not medically necessary.The Review Organization's Physician Consultant examined the medical records submitted and determined bilateral breast reduction surgery is medically necessary for treatment of this enrollee's condition; therefore, the Health Plan&#8217;s denial should be overturned.\"\n",
            " \"A male requested participation in a Phase I study of Oxaliplatin for lung cancer.    The health plan denied the request indicating the treatment requested was experimental.  The Review Organization's Physician Consultants examined the medical records submitted and determined the medical service is not likely to be more beneficial to you than available standard therapy and is not required to be provided to you by your health plan.  Therefore, the health plan&#8217;s denial should be upheld.\"]\n"
          ]
        }
      ]
    },
    {
      "cell_type": "code",
      "source": [
        "import re\n",
        "import nltk\n",
        "from nltk.corpus import stopwords\n",
        "nltk.download('stopwords')\n",
        "stop_words = set(stopwords.words('english'))\n",
        "\n",
        "def preprocess_text(text):\n",
        "    if isinstance(text, str):\n",
        "        # Remove non-alphabetic characters and convert to lowercase\n",
        "        text = re.sub('[^a-zA-Z]', ' ', text).lower()\n",
        "        # Tokenize and remove stopwords\n",
        "        tokens = text.split()\n",
        "        tokens = [word for word in tokens if word not in stop_words]\n",
        "        return ' '.join(tokens)\n",
        "    else:\n",
        "        return ''\n",
        "\n",
        "# Fill missing values in the 'Findings' column with an empty string\n",
        "df['Findings'] = df['Findings'].fillna('')\n",
        "\n",
        "# Apply preprocessing to the 'Findings' column\n",
        "df['cleaned_findings'] = df['Findings'].apply(preprocess_text)\n",
        "\n",
        "# Check the cleaned text\n",
        "print(df['cleaned_findings'].head())\n"
      ],
      "metadata": {
        "colab": {
          "base_uri": "https://localhost:8080/"
        },
        "id": "LpzsTqXGPYhZ",
        "outputId": "477a8718-65b2-4aa4-dbd4-f3e6c47a4cfc"
      },
      "execution_count": 6,
      "outputs": [
        {
          "output_type": "stream",
          "name": "stderr",
          "text": [
            "[nltk_data] Downloading package stopwords to /root/nltk_data...\n",
            "[nltk_data]   Package stopwords is already up-to-date!\n"
          ]
        },
        {
          "output_type": "stream",
          "name": "stdout",
          "text": [
            "0    nature statutory criteria case summary enrolle...\n",
            "1    nature statutory criteria case summary enrolle...\n",
            "2    nature statutory criteria case summary parent ...\n",
            "3    nature statutory criteria case summary enrolle...\n",
            "4    physician patient year old male reported small...\n",
            "Name: cleaned_findings, dtype: object\n"
          ]
        }
      ]
    },
    {
      "cell_type": "code",
      "source": [
        "# Save the preprocessed data to a new CSV file\n",
        "df.to_csv('/content/preprocessed_Independent_Medical_Reviews.csv', index=False)\n",
        "\n",
        "# Optionally download the preprocessed data file to your local machine\n",
        "from google.colab import files\n",
        "files.download('/content/preprocessed_Independent_Medical_Reviews.csv')\n"
      ],
      "metadata": {
        "colab": {
          "base_uri": "https://localhost:8080/",
          "height": 17
        },
        "id": "X-Oa5irsPg0t",
        "outputId": "be8941f6-db78-461d-9fb2-69fcb4a05e09"
      },
      "execution_count": 7,
      "outputs": [
        {
          "output_type": "display_data",
          "data": {
            "text/plain": [
              "<IPython.core.display.Javascript object>"
            ],
            "application/javascript": [
              "\n",
              "    async function download(id, filename, size) {\n",
              "      if (!google.colab.kernel.accessAllowed) {\n",
              "        return;\n",
              "      }\n",
              "      const div = document.createElement('div');\n",
              "      const label = document.createElement('label');\n",
              "      label.textContent = `Downloading \"${filename}\": `;\n",
              "      div.appendChild(label);\n",
              "      const progress = document.createElement('progress');\n",
              "      progress.max = size;\n",
              "      div.appendChild(progress);\n",
              "      document.body.appendChild(div);\n",
              "\n",
              "      const buffers = [];\n",
              "      let downloaded = 0;\n",
              "\n",
              "      const channel = await google.colab.kernel.comms.open(id);\n",
              "      // Send a message to notify the kernel that we're ready.\n",
              "      channel.send({})\n",
              "\n",
              "      for await (const message of channel.messages) {\n",
              "        // Send a message to notify the kernel that we're ready.\n",
              "        channel.send({})\n",
              "        if (message.buffers) {\n",
              "          for (const buffer of message.buffers) {\n",
              "            buffers.push(buffer);\n",
              "            downloaded += buffer.byteLength;\n",
              "            progress.value = downloaded;\n",
              "          }\n",
              "        }\n",
              "      }\n",
              "      const blob = new Blob(buffers, {type: 'application/binary'});\n",
              "      const a = document.createElement('a');\n",
              "      a.href = window.URL.createObjectURL(blob);\n",
              "      a.download = filename;\n",
              "      div.appendChild(a);\n",
              "      a.click();\n",
              "      div.remove();\n",
              "    }\n",
              "  "
            ]
          },
          "metadata": {}
        },
        {
          "output_type": "display_data",
          "data": {
            "text/plain": [
              "<IPython.core.display.Javascript object>"
            ],
            "application/javascript": [
              "download(\"download_7e654fbe-a003-469f-9cc2-3d56401df751\", \"preprocessed_Independent_Medical_Reviews.csv\", 43861393)"
            ]
          },
          "metadata": {}
        }
      ]
    },
    {
      "cell_type": "code",
      "source": [
        "# Model_Building_Evaluation.ipynb\n",
        "\n",
        "import pandas as pd\n",
        "\n",
        "# Load the preprocessed dataset from the /content directory\n",
        "file_path = '/content/preprocessed_Independent_Medical_Reviews.csv'\n",
        "df = pd.read_csv(file_path)\n",
        "\n",
        "# Display the first few rows of the preprocessed dataset\n",
        "print(df.head())\n",
        "print(df.info())\n"
      ],
      "metadata": {
        "colab": {
          "base_uri": "https://localhost:8080/"
        },
        "id": "o96PWuFLRAlC",
        "outputId": "510f6c89-d4af-4071-a8e6-7e46ac82dce4"
      },
      "execution_count": 8,
      "outputs": [
        {
          "output_type": "stream",
          "name": "stdout",
          "text": [
            "  Reference ID  Report Year      Diagnosis Category Diagnosis Sub Category  \\\n",
            "0   MN16-22639         2016              Infectious              Hepatitis   \n",
            "1   MN16-22638         2016                  Mental        Eating Disorder   \n",
            "2   MN16-22637         2016         Autism Spectrum         Autism-PDD-NOS   \n",
            "3   EI16-22636         2016  Prevention/Good Health                    NaN   \n",
            "4    EI06-5319         2006     Cardiac/Circulatory                    NaN   \n",
            "\n",
            "                          Treatment Category  \\\n",
            "0                Pharmacy/Prescription Drugs   \n",
            "1                    Mental Health Treatment   \n",
            "2                   Autism Related Treatment   \n",
            "3  Diagnostic Imaging, Screening and Testing   \n",
            "4                            Cardio Vascular   \n",
            "\n",
            "                     Treatment Sub Category  \\\n",
            "0                               Anti-virals   \n",
            "1  Residential Treatment Center - Admission   \n",
            "2                            Speech Therapy   \n",
            "3                               Mammography   \n",
            "4                                       NaN   \n",
            "\n",
            "                        Determination                          Type Age Range  \\\n",
            "0  Overturned Decision of Health Plan             Medical Necessity     41-50   \n",
            "1      Upheld Decision of Health Plan             Medical Necessity     21-30   \n",
            "2      Upheld Decision of Health Plan             Medical Necessity      0-10   \n",
            "3  Overturned Decision of Health Plan  Experimental/Investigational       65+   \n",
            "4      Upheld Decision of Health Plan  Experimental/Investigational     51-64   \n",
            "\n",
            "  Patient Gender                                           Findings  \\\n",
            "0           Male  Nature of Statutory Criteria/Case Summary: An ...   \n",
            "1         Female  Nature of Statutory Criteria/Case Summary:  An...   \n",
            "2         Female  Nature of Statutory Criteria/Case Summary:  Th...   \n",
            "3         Female  Nature of Statutory Criteria/Case Summary: An ...   \n",
            "4           Male  Physician 1: The patient is a 62-year-old male...   \n",
            "\n",
            "                                    cleaned_findings  \n",
            "0  nature statutory criteria case summary enrolle...  \n",
            "1  nature statutory criteria case summary enrolle...  \n",
            "2  nature statutory criteria case summary parent ...  \n",
            "3  nature statutory criteria case summary enrolle...  \n",
            "4  physician patient year old male reported small...  \n",
            "<class 'pandas.core.frame.DataFrame'>\n",
            "RangeIndex: 19245 entries, 0 to 19244\n",
            "Data columns (total 12 columns):\n",
            " #   Column                  Non-Null Count  Dtype \n",
            "---  ------                  --------------  ----- \n",
            " 0   Reference ID            19245 non-null  object\n",
            " 1   Report Year             19245 non-null  int64 \n",
            " 2   Diagnosis Category      19186 non-null  object\n",
            " 3   Diagnosis Sub Category  17341 non-null  object\n",
            " 4   Treatment Category      18795 non-null  object\n",
            " 5   Treatment Sub Category  17977 non-null  object\n",
            " 6   Determination           19245 non-null  object\n",
            " 7   Type                    19245 non-null  object\n",
            " 8   Age Range               18035 non-null  object\n",
            " 9   Patient Gender          18035 non-null  object\n",
            " 10  Findings                19225 non-null  object\n",
            " 11  cleaned_findings        19224 non-null  object\n",
            "dtypes: int64(1), object(11)\n",
            "memory usage: 1.8+ MB\n",
            "None\n"
          ]
        }
      ]
    },
    {
      "cell_type": "code",
      "source": [
        "from sklearn.feature_extraction.text import TfidfVectorizer\n",
        "\n",
        "# Handle missing values by filling NaNs with empty strings\n",
        "df['cleaned_findings'] = df['cleaned_findings'].fillna('')\n",
        "\n",
        "# Convert text data to TF-IDF features\n",
        "vectorizer = TfidfVectorizer(max_features=5000)\n",
        "X = vectorizer.fit_transform(df['cleaned_findings']).toarray()\n",
        "\n",
        "# Target variable (e.g., 'Determination' or 'Type')\n",
        "# For binary classification: 'Overturned' vs 'Upheld'\n",
        "y = df['Determination'].apply(lambda x: 1 if x == 'Overturned' else 0)  # Binary classification\n",
        "\n",
        "print(X.shape, y.shape)\n"
      ],
      "metadata": {
        "colab": {
          "base_uri": "https://localhost:8080/"
        },
        "id": "7dHcb_bbR4QV",
        "outputId": "72a60df5-0d4e-4bb9-e9c4-18ad48e9667d"
      },
      "execution_count": 10,
      "outputs": [
        {
          "output_type": "stream",
          "name": "stdout",
          "text": [
            "(19245, 5000) (19245,)\n"
          ]
        }
      ]
    },
    {
      "cell_type": "code",
      "source": [
        "from sklearn.model_selection import train_test_split\n",
        "from sklearn.naive_bayes import MultinomialNB\n",
        "from sklearn.metrics import classification_report, accuracy_score\n",
        "\n",
        "# Split the data into training and testing sets\n",
        "X_train, X_test, y_train, y_test = train_test_split(X, y, test_size=0.2, random_state=42)\n",
        "\n",
        "# Train a Naive Bayes classifier\n",
        "model = MultinomialNB()\n",
        "model.fit(X_train, y_train)\n",
        "\n",
        "# Predict on the test set\n",
        "y_pred = model.predict(X_test)\n",
        "\n",
        "# Evaluate the model\n",
        "print(\"Accuracy:\", accuracy_score(y_test, y_pred))\n",
        "print(classification_report(y_test, y_pred))\n"
      ],
      "metadata": {
        "colab": {
          "base_uri": "https://localhost:8080/"
        },
        "id": "pJOjghEbR7By",
        "outputId": "953bbffd-1039-47bb-e56a-027f97a7ed53"
      },
      "execution_count": 11,
      "outputs": [
        {
          "output_type": "stream",
          "name": "stdout",
          "text": [
            "Accuracy: 1.0\n",
            "              precision    recall  f1-score   support\n",
            "\n",
            "           0       1.00      1.00      1.00      3849\n",
            "\n",
            "    accuracy                           1.00      3849\n",
            "   macro avg       1.00      1.00      1.00      3849\n",
            "weighted avg       1.00      1.00      1.00      3849\n",
            "\n"
          ]
        }
      ]
    },
    {
      "cell_type": "code",
      "source": [
        "import matplotlib.pyplot as plt\n",
        "import seaborn as sns\n",
        "from sklearn.metrics import confusion_matrix\n",
        "\n",
        "# Confusion matrix\n",
        "cm = confusion_matrix(y_test, y_pred)\n",
        "\n",
        "# Plot the confusion matrix\n",
        "plt.figure(figsize=(8, 6))\n",
        "sns.heatmap(cm, annot=True, fmt='d', cmap='Blues', xticklabels=['Upheld', 'Overturned'], yticklabels=['Upheld', 'Overturned'])\n",
        "plt.xlabel('Predicted')\n",
        "plt.ylabel('Actual')\n",
        "plt.title('Confusion Matrix')\n",
        "plt.show()\n"
      ],
      "metadata": {
        "colab": {
          "base_uri": "https://localhost:8080/",
          "height": 564
        },
        "id": "wnFAw-4OTJsl",
        "outputId": "2eaca2ff-68cb-4927-9bc1-8a74386fb4c0"
      },
      "execution_count": 12,
      "outputs": [
        {
          "output_type": "display_data",
          "data": {
            "text/plain": [
              "<Figure size 800x600 with 2 Axes>"
            ],
            "image/png": "[encoded data removed]"
          },
          "metadata": {}
        }
      ]
    },
    {
      "cell_type": "code",
      "source": [],
      "metadata": {
        "id": "5T90twGMTVw1"
      },
      "execution_count": null,
      "outputs": []
    }
  ]
}